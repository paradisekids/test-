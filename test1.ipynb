{
  "nbformat": 4,
  "nbformat_minor": 0,
  "metadata": {
    "colab": {
      "provenance": [],
      "authorship_tag": "ABX9TyO8ViPbEBTigioON03l2QlG",
      "include_colab_link": true
    },
    "kernelspec": {
      "name": "python3",
      "display_name": "Python 3"
    },
    "language_info": {
      "name": "python"
    }
  },
  "cells": [
    {
      "cell_type": "markdown",
      "metadata": {
        "id": "view-in-github",
        "colab_type": "text"
      },
      "source": [
        "<a href=\"https://colab.research.google.com/github/paradisekids/test-/blob/main/test1.ipynb\" target=\"_parent\"><img src=\"https://colab.research.google.com/assets/colab-badge.svg\" alt=\"Open In Colab\"/></a>"
      ]
    },
    {
      "cell_type": "code",
      "execution_count": 7,
      "metadata": {
        "colab": {
          "base_uri": "https://localhost:8080/",
          "height": 312
        },
        "id": "oqNIYKsmk1Qa",
        "outputId": "f102e830-57c4-4edb-e9f7-c2471e5ee3ff"
      },
      "outputs": [
        {
          "output_type": "execute_result",
          "data": {
            "text/plain": [
              "Text(0.5, 1.0, 'My first graph!')"
            ]
          },
          "metadata": {},
          "execution_count": 7
        },
        {
          "output_type": "display_data",
          "data": {
            "text/plain": [
              "<Figure size 432x288 with 1 Axes>"
            ],
            "image/png": "[encoded data removed]"
          },
          "metadata": {
            "needs_background": "light"
          }
        }
      ],
      "source": [
        "\n",
        "# importing the required module\n",
        "import matplotlib.pyplot as plt\n",
        "\t\n",
        "# x axis values\n",
        "x = [1,2,3]\n",
        "# corresponding y axis values\n",
        "y = [2,4,1]\n",
        "\t\n",
        "# plotting the points\n",
        "plt.plot(x, y)\n",
        "\t\n",
        "# naming the x axis\n",
        "plt.xlabel('x - axis')\n",
        "# naming the y axis\n",
        "plt.ylabel('y - axis')\n",
        "\t\n",
        "# giving a title to my graph\n",
        "plt.title('My first graph!')\n",
        "\t"
      ]
    },
    {
      "cell_type": "code",
      "source": [
        "print(\"hello\")"
      ],
      "metadata": {
        "colab": {
          "base_uri": "https://localhost:8080/"
        },
        "id": "vyCnJ37nk43g",
        "outputId": "0becdb65-a613-43de-8a88-30344db6f617"
      },
      "execution_count": 1,
      "outputs": [
        {
          "output_type": "stream",
          "name": "stdout",
          "text": [
            "hello\n"
          ]
        }
      ]
    }
  ]
}